{
  "nbformat": 4,
  "nbformat_minor": 0,
  "metadata": {
    "colab": {
      "provenance": []
    },
    "kernelspec": {
      "name": "python3",
      "display_name": "Python 3"
    },
    "language_info": {
      "name": "python"
    }
  },
  "cells": [
    {
      "cell_type": "markdown",
      "source": [
        "# **A/B Testing Pada Kampanye Pemasaran**\n",
        "\n",
        "**Introduction**\n",
        "\n",
        "Perusahaan pemasaran ingin menjalankan kampanye yang sukses, tetapi pasar sangat kompleks dan dengan pilihan kampanye yang tepat dapat menghasilkan kampanye yang sukses. Oleh karena itu, biasanya mereka melakukan A/B testing.\n",
        "Mayoritas orang akan terpapar iklan (kelompok eksperimen). Dan sebagian kecil orang (kelompok kontrol) akan melihat Pengumuman Layanan Publik (PSA) dengan ukuran dan tempat yang sama dengan iklan.\n",
        "\n",
        "**Data**\n",
        "\n",
        "Untuk data yang digunakan pada proyek kali ini menggunakan data Marketing A/B Testing yang bersumber dari Kaggle. Adapun informasi mengenai data tersebut adalah sebagai berikut:\n",
        "* user id: User ID (unique).\n",
        "* test group: Jika \"ad\", orang tersebut melihat iklan; jika \"psa\", mereka hanya melihat pengumuman layanan publik.\n",
        "* converted: Jika seseorang membeli produk maka True, jika tidak maka False.\n",
        "* total ads: Jumlah iklan yang dilihat oleh orang tersebut.\n",
        "* most ads day: Hari di mana orang tersebut melihat jumlah iklan terbanyak.\n",
        "* most ads hour: Jam pada hari di mana orang tersebut melihat jumlah iklan terbanyak."
      ],
      "metadata": {
        "id": "UUGY9Qo_6WYy"
      }
    },
    {
      "cell_type": "markdown",
      "source": [
        "**Sample Size**\n",
        "\n",
        "Untuk menghitung ukuran sampel dalam merancang eksperimen kasus kampanye pemasaran, faktor-faktor berikut perlu diperhatikan:\n",
        "* Significant level (α): menentukan tingkat signifikansi yang diterima dalam uji hipotesis. Secara umum dalam praktek uji hipotesis, α yang umum digunakan adalah 0.05 atau 5%.\n",
        "* Power level (1 - β): probabilitas untuk menolak hipotesis nol ketika hipotesis alternatif benar. Secara umum, beta atau β diatur pada level 0.2 atau 20%, sehingga untuk power level 1-β  adalah 0.8 atau 80%.\n",
        "* Standard deviation of population (σ): untuk kampanye pemasaran ini dan data yang digunakan, untuk standar deviasi populasi adalah 0.07 atau 7%.\n",
        "* Difference between control and treatment (δ): berdasarkan keputusan perusahaan akan lebih menguntungkan jika tingkat konversi meningkat 1%.\n",
        "\n",
        "Jumlah ukuran sampel dapat dihitung menggunakan formula berikut:"
      ],
      "metadata": {
        "id": "0QHRWYHm81Em"
      }
    },
    {
      "cell_type": "code",
      "execution_count": 2,
      "metadata": {
        "colab": {
          "base_uri": "https://localhost:8080/"
        },
        "id": "PYhm5qsk3bPG",
        "outputId": "f788979c-a16c-4b5a-ee6e-cfd6ada03c78"
      },
      "outputs": [
        {
          "output_type": "stream",
          "name": "stdout",
          "text": [
            "Jumlah ukuran sampel: 769.1902139662106\n"
          ]
        }
      ],
      "source": [
        "import scipy.stats as stats\n",
        "\n",
        "# Nilai yang diberikan\n",
        "alpha = 0.05\n",
        "power_level = 0.8\n",
        "standard_deviation = 0.07\n",
        "delta = 0.01\n",
        "\n",
        "# Menghitung beta\n",
        "beta = 1 - power_level\n",
        "\n",
        "# Menghitung z-value\n",
        "z_alpha = stats.norm.ppf(1 - alpha/2)\n",
        "z_beta = stats.norm.ppf(1 - beta)\n",
        "\n",
        "# Menghitung jumlah ukuran sampel\n",
        "n = (2 * (z_alpha + z_beta)**2 * standard_deviation**2) / delta**2\n",
        "\n",
        "# Cetak hasil\n",
        "print(\"Jumlah ukuran sampel:\", n)\n"
      ]
    },
    {
      "cell_type": "markdown",
      "source": [
        "**Running Experiment and Obtaining Data**"
      ],
      "metadata": {
        "id": "-xB_C25-9jGc"
      }
    },
    {
      "cell_type": "code",
      "source": [
        "# konek google colab dengan google drive\n",
        "from google.colab import drive\n",
        "drive.mount('/content/drive')"
      ],
      "metadata": {
        "colab": {
          "base_uri": "https://localhost:8080/"
        },
        "id": "Er_6o9qcZamD",
        "outputId": "9d71496b-7a6a-46ac-c0eb-aa24ce0756c1"
      },
      "execution_count": 3,
      "outputs": [
        {
          "output_type": "stream",
          "name": "stdout",
          "text": [
            "Drive already mounted at /content/drive; to attempt to forcibly remount, call drive.mount(\"/content/drive\", force_remount=True).\n"
          ]
        }
      ]
    },
    {
      "cell_type": "code",
      "source": [
        "# load library\n",
        "import pandas as pd\n",
        "import numpy as np\n",
        "\n",
        "# Load dataset\n",
        "data = pd.read_csv('/content/drive/MyDrive/A B Testing/marketing_AB.csv')\n",
        "data.head()"
      ],
      "metadata": {
        "colab": {
          "base_uri": "https://localhost:8080/",
          "height": 206
        },
        "id": "XOM8TSB7L75g",
        "outputId": "48181249-c97c-419f-fc1a-6d76481f3cb0"
      },
      "execution_count": 4,
      "outputs": [
        {
          "output_type": "execute_result",
          "data": {
            "text/plain": [
              "   Unnamed: 0  user id test group  converted  total ads most ads day  \\\n",
              "0           0  1069124         ad      False        130       Monday   \n",
              "1           1  1119715         ad      False         93      Tuesday   \n",
              "2           2  1144181         ad      False         21      Tuesday   \n",
              "3           3  1435133         ad      False        355      Tuesday   \n",
              "4           4  1015700         ad      False        276       Friday   \n",
              "\n",
              "   most ads hour  \n",
              "0             20  \n",
              "1             22  \n",
              "2             18  \n",
              "3             10  \n",
              "4             14  "
            ],
            "text/html": [
              "\n",
              "  <div id=\"df-960b15c9-d398-408a-b139-78352d8c757b\">\n",
              "    <div class=\"colab-df-container\">\n",
              "      <div>\n",
              "<style scoped>\n",
              "    .dataframe tbody tr th:only-of-type {\n",
              "        vertical-align: middle;\n",
              "    }\n",
              "\n",
              "    .dataframe tbody tr th {\n",
              "        vertical-align: top;\n",
              "    }\n",
              "\n",
              "    .dataframe thead th {\n",
              "        text-align: right;\n",
              "    }\n",
              "</style>\n",
              "<table border=\"1\" class=\"dataframe\">\n",
              "  <thead>\n",
              "    <tr style=\"text-align: right;\">\n",
              "      <th></th>\n",
              "      <th>Unnamed: 0</th>\n",
              "      <th>user id</th>\n",
              "      <th>test group</th>\n",
              "      <th>converted</th>\n",
              "      <th>total ads</th>\n",
              "      <th>most ads day</th>\n",
              "      <th>most ads hour</th>\n",
              "    </tr>\n",
              "  </thead>\n",
              "  <tbody>\n",
              "    <tr>\n",
              "      <th>0</th>\n",
              "      <td>0</td>\n",
              "      <td>1069124</td>\n",
              "      <td>ad</td>\n",
              "      <td>False</td>\n",
              "      <td>130</td>\n",
              "      <td>Monday</td>\n",
              "      <td>20</td>\n",
              "    </tr>\n",
              "    <tr>\n",
              "      <th>1</th>\n",
              "      <td>1</td>\n",
              "      <td>1119715</td>\n",
              "      <td>ad</td>\n",
              "      <td>False</td>\n",
              "      <td>93</td>\n",
              "      <td>Tuesday</td>\n",
              "      <td>22</td>\n",
              "    </tr>\n",
              "    <tr>\n",
              "      <th>2</th>\n",
              "      <td>2</td>\n",
              "      <td>1144181</td>\n",
              "      <td>ad</td>\n",
              "      <td>False</td>\n",
              "      <td>21</td>\n",
              "      <td>Tuesday</td>\n",
              "      <td>18</td>\n",
              "    </tr>\n",
              "    <tr>\n",
              "      <th>3</th>\n",
              "      <td>3</td>\n",
              "      <td>1435133</td>\n",
              "      <td>ad</td>\n",
              "      <td>False</td>\n",
              "      <td>355</td>\n",
              "      <td>Tuesday</td>\n",
              "      <td>10</td>\n",
              "    </tr>\n",
              "    <tr>\n",
              "      <th>4</th>\n",
              "      <td>4</td>\n",
              "      <td>1015700</td>\n",
              "      <td>ad</td>\n",
              "      <td>False</td>\n",
              "      <td>276</td>\n",
              "      <td>Friday</td>\n",
              "      <td>14</td>\n",
              "    </tr>\n",
              "  </tbody>\n",
              "</table>\n",
              "</div>\n",
              "      <button class=\"colab-df-convert\" onclick=\"convertToInteractive('df-960b15c9-d398-408a-b139-78352d8c757b')\"\n",
              "              title=\"Convert this dataframe to an interactive table.\"\n",
              "              style=\"display:none;\">\n",
              "        \n",
              "  <svg xmlns=\"http://www.w3.org/2000/svg\" height=\"24px\"viewBox=\"0 0 24 24\"\n",
              "       width=\"24px\">\n",
              "    <path d=\"M0 0h24v24H0V0z\" fill=\"none\"/>\n",
              "    <path d=\"M18.56 5.44l.94 2.06.94-2.06 2.06-.94-2.06-.94-.94-2.06-.94 2.06-2.06.94zm-11 1L8.5 8.5l.94-2.06 2.06-.94-2.06-.94L8.5 2.5l-.94 2.06-2.06.94zm10 10l.94 2.06.94-2.06 2.06-.94-2.06-.94-.94-2.06-.94 2.06-2.06.94z\"/><path d=\"M17.41 7.96l-1.37-1.37c-.4-.4-.92-.59-1.43-.59-.52 0-1.04.2-1.43.59L10.3 9.45l-7.72 7.72c-.78.78-.78 2.05 0 2.83L4 21.41c.39.39.9.59 1.41.59.51 0 1.02-.2 1.41-.59l7.78-7.78 2.81-2.81c.8-.78.8-2.07 0-2.86zM5.41 20L4 18.59l7.72-7.72 1.47 1.35L5.41 20z\"/>\n",
              "  </svg>\n",
              "      </button>\n",
              "      \n",
              "  <style>\n",
              "    .colab-df-container {\n",
              "      display:flex;\n",
              "      flex-wrap:wrap;\n",
              "      gap: 12px;\n",
              "    }\n",
              "\n",
              "    .colab-df-convert {\n",
              "      background-color: #E8F0FE;\n",
              "      border: none;\n",
              "      border-radius: 50%;\n",
              "      cursor: pointer;\n",
              "      display: none;\n",
              "      fill: #1967D2;\n",
              "      height: 32px;\n",
              "      padding: 0 0 0 0;\n",
              "      width: 32px;\n",
              "    }\n",
              "\n",
              "    .colab-df-convert:hover {\n",
              "      background-color: #E2EBFA;\n",
              "      box-shadow: 0px 1px 2px rgba(60, 64, 67, 0.3), 0px 1px 3px 1px rgba(60, 64, 67, 0.15);\n",
              "      fill: #174EA6;\n",
              "    }\n",
              "\n",
              "    [theme=dark] .colab-df-convert {\n",
              "      background-color: #3B4455;\n",
              "      fill: #D2E3FC;\n",
              "    }\n",
              "\n",
              "    [theme=dark] .colab-df-convert:hover {\n",
              "      background-color: #434B5C;\n",
              "      box-shadow: 0px 1px 3px 1px rgba(0, 0, 0, 0.15);\n",
              "      filter: drop-shadow(0px 1px 2px rgba(0, 0, 0, 0.3));\n",
              "      fill: #FFFFFF;\n",
              "    }\n",
              "  </style>\n",
              "\n",
              "      <script>\n",
              "        const buttonEl =\n",
              "          document.querySelector('#df-960b15c9-d398-408a-b139-78352d8c757b button.colab-df-convert');\n",
              "        buttonEl.style.display =\n",
              "          google.colab.kernel.accessAllowed ? 'block' : 'none';\n",
              "\n",
              "        async function convertToInteractive(key) {\n",
              "          const element = document.querySelector('#df-960b15c9-d398-408a-b139-78352d8c757b');\n",
              "          const dataTable =\n",
              "            await google.colab.kernel.invokeFunction('convertToInteractive',\n",
              "                                                     [key], {});\n",
              "          if (!dataTable) return;\n",
              "\n",
              "          const docLinkHtml = 'Like what you see? Visit the ' +\n",
              "            '<a target=\"_blank\" href=https://colab.research.google.com/notebooks/data_table.ipynb>data table notebook</a>'\n",
              "            + ' to learn more about interactive tables.';\n",
              "          element.innerHTML = '';\n",
              "          dataTable['output_type'] = 'display_data';\n",
              "          await google.colab.output.renderOutput(dataTable, element);\n",
              "          const docLink = document.createElement('div');\n",
              "          docLink.innerHTML = docLinkHtml;\n",
              "          element.appendChild(docLink);\n",
              "        }\n",
              "      </script>\n",
              "    </div>\n",
              "  </div>\n",
              "  "
            ]
          },
          "metadata": {},
          "execution_count": 4
        }
      ]
    },
    {
      "cell_type": "code",
      "source": [
        "data.info()"
      ],
      "metadata": {
        "colab": {
          "base_uri": "https://localhost:8080/"
        },
        "id": "n3qxESkGRtQo",
        "outputId": "a1549c90-6af6-4e41-e5e0-944808fc69b5"
      },
      "execution_count": 5,
      "outputs": [
        {
          "output_type": "stream",
          "name": "stdout",
          "text": [
            "<class 'pandas.core.frame.DataFrame'>\n",
            "RangeIndex: 588101 entries, 0 to 588100\n",
            "Data columns (total 7 columns):\n",
            " #   Column         Non-Null Count   Dtype \n",
            "---  ------         --------------   ----- \n",
            " 0   Unnamed: 0     588101 non-null  int64 \n",
            " 1   user id        588101 non-null  int64 \n",
            " 2   test group     588101 non-null  object\n",
            " 3   converted      588101 non-null  bool  \n",
            " 4   total ads      588101 non-null  int64 \n",
            " 5   most ads day   588101 non-null  object\n",
            " 6   most ads hour  588101 non-null  int64 \n",
            "dtypes: bool(1), int64(4), object(2)\n",
            "memory usage: 27.5+ MB\n"
          ]
        }
      ]
    },
    {
      "cell_type": "code",
      "source": [
        "# Mengambil sampel pengguna secara acak\n",
        "sample_size = 770\n",
        "\n",
        "# Mengambil sampel untuk kelompok kontrol\n",
        "control_group = data[data['test group'] == 'psa'].sample(sample_size, random_state=6)\n",
        "\n",
        "# Mengambil sampel untuk kelompok treatment\n",
        "treatment_group = data[data['test group'] == 'ad'].sample(sample_size, random_state=6)\n",
        "\n",
        "# Menggabungkan kedua kelompok menjadi satu dataset eksperimen\n",
        "experiment_data = pd.concat([control_group, treatment_group])\n",
        "experiment_data.head()"
      ],
      "metadata": {
        "colab": {
          "base_uri": "https://localhost:8080/",
          "height": 206
        },
        "id": "AKPbx4gDQkwX",
        "outputId": "3574f709-bd56-4512-9728-0ee30d5f86ec"
      },
      "execution_count": 6,
      "outputs": [
        {
          "output_type": "execute_result",
          "data": {
            "text/plain": [
              "        Unnamed: 0  user id test group  converted  total ads most ads day  \\\n",
              "26655        26655   919301        psa      False        135     Thursday   \n",
              "523984      523984   903875        psa      False          6       Friday   \n",
              "53833        53833   911151        psa      False         10       Monday   \n",
              "30723        30723   912946        psa      False         12    Wednesday   \n",
              "526230      526230   901572        psa      False         26       Friday   \n",
              "\n",
              "        most ads hour  \n",
              "26655              15  \n",
              "523984             12  \n",
              "53833              17  \n",
              "30723              13  \n",
              "526230             13  "
            ],
            "text/html": [
              "\n",
              "  <div id=\"df-6fc79fa8-3a53-4d3a-9fc5-3f0342e90f84\">\n",
              "    <div class=\"colab-df-container\">\n",
              "      <div>\n",
              "<style scoped>\n",
              "    .dataframe tbody tr th:only-of-type {\n",
              "        vertical-align: middle;\n",
              "    }\n",
              "\n",
              "    .dataframe tbody tr th {\n",
              "        vertical-align: top;\n",
              "    }\n",
              "\n",
              "    .dataframe thead th {\n",
              "        text-align: right;\n",
              "    }\n",
              "</style>\n",
              "<table border=\"1\" class=\"dataframe\">\n",
              "  <thead>\n",
              "    <tr style=\"text-align: right;\">\n",
              "      <th></th>\n",
              "      <th>Unnamed: 0</th>\n",
              "      <th>user id</th>\n",
              "      <th>test group</th>\n",
              "      <th>converted</th>\n",
              "      <th>total ads</th>\n",
              "      <th>most ads day</th>\n",
              "      <th>most ads hour</th>\n",
              "    </tr>\n",
              "  </thead>\n",
              "  <tbody>\n",
              "    <tr>\n",
              "      <th>26655</th>\n",
              "      <td>26655</td>\n",
              "      <td>919301</td>\n",
              "      <td>psa</td>\n",
              "      <td>False</td>\n",
              "      <td>135</td>\n",
              "      <td>Thursday</td>\n",
              "      <td>15</td>\n",
              "    </tr>\n",
              "    <tr>\n",
              "      <th>523984</th>\n",
              "      <td>523984</td>\n",
              "      <td>903875</td>\n",
              "      <td>psa</td>\n",
              "      <td>False</td>\n",
              "      <td>6</td>\n",
              "      <td>Friday</td>\n",
              "      <td>12</td>\n",
              "    </tr>\n",
              "    <tr>\n",
              "      <th>53833</th>\n",
              "      <td>53833</td>\n",
              "      <td>911151</td>\n",
              "      <td>psa</td>\n",
              "      <td>False</td>\n",
              "      <td>10</td>\n",
              "      <td>Monday</td>\n",
              "      <td>17</td>\n",
              "    </tr>\n",
              "    <tr>\n",
              "      <th>30723</th>\n",
              "      <td>30723</td>\n",
              "      <td>912946</td>\n",
              "      <td>psa</td>\n",
              "      <td>False</td>\n",
              "      <td>12</td>\n",
              "      <td>Wednesday</td>\n",
              "      <td>13</td>\n",
              "    </tr>\n",
              "    <tr>\n",
              "      <th>526230</th>\n",
              "      <td>526230</td>\n",
              "      <td>901572</td>\n",
              "      <td>psa</td>\n",
              "      <td>False</td>\n",
              "      <td>26</td>\n",
              "      <td>Friday</td>\n",
              "      <td>13</td>\n",
              "    </tr>\n",
              "  </tbody>\n",
              "</table>\n",
              "</div>\n",
              "      <button class=\"colab-df-convert\" onclick=\"convertToInteractive('df-6fc79fa8-3a53-4d3a-9fc5-3f0342e90f84')\"\n",
              "              title=\"Convert this dataframe to an interactive table.\"\n",
              "              style=\"display:none;\">\n",
              "        \n",
              "  <svg xmlns=\"http://www.w3.org/2000/svg\" height=\"24px\"viewBox=\"0 0 24 24\"\n",
              "       width=\"24px\">\n",
              "    <path d=\"M0 0h24v24H0V0z\" fill=\"none\"/>\n",
              "    <path d=\"M18.56 5.44l.94 2.06.94-2.06 2.06-.94-2.06-.94-.94-2.06-.94 2.06-2.06.94zm-11 1L8.5 8.5l.94-2.06 2.06-.94-2.06-.94L8.5 2.5l-.94 2.06-2.06.94zm10 10l.94 2.06.94-2.06 2.06-.94-2.06-.94-.94-2.06-.94 2.06-2.06.94z\"/><path d=\"M17.41 7.96l-1.37-1.37c-.4-.4-.92-.59-1.43-.59-.52 0-1.04.2-1.43.59L10.3 9.45l-7.72 7.72c-.78.78-.78 2.05 0 2.83L4 21.41c.39.39.9.59 1.41.59.51 0 1.02-.2 1.41-.59l7.78-7.78 2.81-2.81c.8-.78.8-2.07 0-2.86zM5.41 20L4 18.59l7.72-7.72 1.47 1.35L5.41 20z\"/>\n",
              "  </svg>\n",
              "      </button>\n",
              "      \n",
              "  <style>\n",
              "    .colab-df-container {\n",
              "      display:flex;\n",
              "      flex-wrap:wrap;\n",
              "      gap: 12px;\n",
              "    }\n",
              "\n",
              "    .colab-df-convert {\n",
              "      background-color: #E8F0FE;\n",
              "      border: none;\n",
              "      border-radius: 50%;\n",
              "      cursor: pointer;\n",
              "      display: none;\n",
              "      fill: #1967D2;\n",
              "      height: 32px;\n",
              "      padding: 0 0 0 0;\n",
              "      width: 32px;\n",
              "    }\n",
              "\n",
              "    .colab-df-convert:hover {\n",
              "      background-color: #E2EBFA;\n",
              "      box-shadow: 0px 1px 2px rgba(60, 64, 67, 0.3), 0px 1px 3px 1px rgba(60, 64, 67, 0.15);\n",
              "      fill: #174EA6;\n",
              "    }\n",
              "\n",
              "    [theme=dark] .colab-df-convert {\n",
              "      background-color: #3B4455;\n",
              "      fill: #D2E3FC;\n",
              "    }\n",
              "\n",
              "    [theme=dark] .colab-df-convert:hover {\n",
              "      background-color: #434B5C;\n",
              "      box-shadow: 0px 1px 3px 1px rgba(0, 0, 0, 0.15);\n",
              "      filter: drop-shadow(0px 1px 2px rgba(0, 0, 0, 0.3));\n",
              "      fill: #FFFFFF;\n",
              "    }\n",
              "  </style>\n",
              "\n",
              "      <script>\n",
              "        const buttonEl =\n",
              "          document.querySelector('#df-6fc79fa8-3a53-4d3a-9fc5-3f0342e90f84 button.colab-df-convert');\n",
              "        buttonEl.style.display =\n",
              "          google.colab.kernel.accessAllowed ? 'block' : 'none';\n",
              "\n",
              "        async function convertToInteractive(key) {\n",
              "          const element = document.querySelector('#df-6fc79fa8-3a53-4d3a-9fc5-3f0342e90f84');\n",
              "          const dataTable =\n",
              "            await google.colab.kernel.invokeFunction('convertToInteractive',\n",
              "                                                     [key], {});\n",
              "          if (!dataTable) return;\n",
              "\n",
              "          const docLinkHtml = 'Like what you see? Visit the ' +\n",
              "            '<a target=\"_blank\" href=https://colab.research.google.com/notebooks/data_table.ipynb>data table notebook</a>'\n",
              "            + ' to learn more about interactive tables.';\n",
              "          element.innerHTML = '';\n",
              "          dataTable['output_type'] = 'display_data';\n",
              "          await google.colab.output.renderOutput(dataTable, element);\n",
              "          const docLink = document.createElement('div');\n",
              "          docLink.innerHTML = docLinkHtml;\n",
              "          element.appendChild(docLink);\n",
              "        }\n",
              "      </script>\n",
              "    </div>\n",
              "  </div>\n",
              "  "
            ]
          },
          "metadata": {},
          "execution_count": 6
        }
      ]
    },
    {
      "cell_type": "code",
      "source": [
        "experiment_data.info()"
      ],
      "metadata": {
        "colab": {
          "base_uri": "https://localhost:8080/"
        },
        "id": "7EIEXjoqR-DB",
        "outputId": "d2d1bad3-bc03-4340-f9d5-d516b4214a1c"
      },
      "execution_count": 7,
      "outputs": [
        {
          "output_type": "stream",
          "name": "stdout",
          "text": [
            "<class 'pandas.core.frame.DataFrame'>\n",
            "Int64Index: 1540 entries, 26655 to 586612\n",
            "Data columns (total 7 columns):\n",
            " #   Column         Non-Null Count  Dtype \n",
            "---  ------         --------------  ----- \n",
            " 0   Unnamed: 0     1540 non-null   int64 \n",
            " 1   user id        1540 non-null   int64 \n",
            " 2   test group     1540 non-null   object\n",
            " 3   converted      1540 non-null   bool  \n",
            " 4   total ads      1540 non-null   int64 \n",
            " 5   most ads day   1540 non-null   object\n",
            " 6   most ads hour  1540 non-null   int64 \n",
            "dtypes: bool(1), int64(4), object(2)\n",
            "memory usage: 85.7+ KB\n"
          ]
        }
      ]
    },
    {
      "cell_type": "markdown",
      "source": [
        "**Data Quality and Exploration**"
      ],
      "metadata": {
        "id": "gooCQjDh9q5M"
      }
    },
    {
      "cell_type": "code",
      "source": [
        "# Cek kualitas data\n",
        "\n",
        "# Memeriksa adanya missing values\n",
        "print(\"\\nMissing Values:\")\n",
        "print(experiment_data.isnull().sum())\n",
        "\n",
        "# Memeriksa statistik deskriptif dari dataset\n",
        "print(\"\\nDescriptive Statistics:\")\n",
        "print(experiment_data.describe())\n",
        "\n",
        "# Memeriksa jumlah unik dalam setiap kolom\n",
        "print(\"\\nUnique Values:\")\n",
        "for column in experiment_data.columns:\n",
        "    unique_values = experiment_data[column].nunique()\n",
        "    unique_column_values = experiment_data[column].unique()\n",
        "    print(f\"{column}: {unique_values}\")\n",
        "    print(f\"Unique {column} values: {unique_column_values}\")\n",
        "    print()\n",
        "\n",
        "# Memeriksa distribusi kategori dalam kolom 'test group'\n",
        "print(\"\\nDistribution of Test Group:\")\n",
        "print(experiment_data['test group'].value_counts())"
      ],
      "metadata": {
        "colab": {
          "base_uri": "https://localhost:8080/"
        },
        "id": "WXFzgEwXUWYs",
        "outputId": "3ef49806-66a6-4485-fbd3-948b7c20acbd"
      },
      "execution_count": 8,
      "outputs": [
        {
          "output_type": "stream",
          "name": "stdout",
          "text": [
            "\n",
            "Missing Values:\n",
            "Unnamed: 0       0\n",
            "user id          0\n",
            "test group       0\n",
            "converted        0\n",
            "total ads        0\n",
            "most ads day     0\n",
            "most ads hour    0\n",
            "dtype: int64\n",
            "\n",
            "Descriptive Statistics:\n",
            "          Unnamed: 0       user id    total ads  most ads hour\n",
            "count    1540.000000  1.540000e+03  1540.000000    1540.000000\n",
            "mean   302273.204545  1.123004e+06    23.764286      14.193506\n",
            "std    190031.284349  2.493522e+05    40.669650       4.737991\n",
            "min       376.000000  9.000620e+05     1.000000       0.000000\n",
            "25%    122521.000000  9.118192e+05     4.000000      11.000000\n",
            "50%    304761.000000  9.628230e+05    11.000000      14.000000\n",
            "75%    491980.000000  1.345161e+06    26.000000      18.000000\n",
            "max    587282.000000  1.654083e+06   563.000000      23.000000\n",
            "\n",
            "Unique Values:\n",
            "Unnamed: 0: 1540\n",
            "Unique Unnamed: 0 values: [ 26655 523984  53833 ...  43096 505735 586612]\n",
            "\n",
            "user id: 1540\n",
            "Unique user id values: [ 919301  903875  911151 ... 1476428 1155799 1363968]\n",
            "\n",
            "test group: 2\n",
            "Unique test group values: ['psa' 'ad']\n",
            "\n",
            "converted: 2\n",
            "Unique converted values: [False  True]\n",
            "\n",
            "total ads: 151\n",
            "Unique total ads values: [135   6  10  12  26  25   8   2   1 290  21  22  17   5  15 191   9   4\n",
            "  39  14  24  27  29  31   7 100   3  71  38  16  18  13  46  37 215  42\n",
            "  11  92  99 102  23  67  53  47  56  57  55  69 133 176  30  73  19 175\n",
            "  40  72  49  89  28  33  36  44 105  41  81  52 106  35  50 119  76  60\n",
            " 134 210  20 202  59 130  68  63  78  65  32 357 231  96 341  75  34 415\n",
            "  45  88  79  58  86 563 157 300  97 189  98  82 209 116 211  51 213 251\n",
            " 174  90  77  74 109  84 121 196 122  64  43 108  93  70 131 144 127 161\n",
            "  62  61  80 230  95 126 145 206 132 111 129 193 139  48 155 112 162 294\n",
            " 178 103 235 125 104  54 149]\n",
            "\n",
            "most ads day: 7\n",
            "Unique most ads day values: ['Thursday' 'Friday' 'Monday' 'Wednesday' 'Sunday' 'Tuesday' 'Saturday']\n",
            "\n",
            "most ads hour: 24\n",
            "Unique most ads hour values: [15 12 17 13 10  9 14 20 21 19 16  8 11 22  1 18  3 23  0  7  4  5  2  6]\n",
            "\n",
            "\n",
            "Distribution of Test Group:\n",
            "psa    770\n",
            "ad     770\n",
            "Name: test group, dtype: int64\n"
          ]
        }
      ]
    },
    {
      "cell_type": "code",
      "source": [
        "# Cek data eksplorasi\n",
        "\n",
        "import matplotlib.pyplot as plt\n",
        "\n",
        "# Membuat urutan hari\n",
        "days_of_week = ['Monday', 'Tuesday', 'Wednesday', 'Thursday', 'Friday', 'Saturday', 'Sunday']\n",
        "\n",
        "# Mengurutkan hari berdasarkan urutan yang ditentukan\n",
        "experiment_data['most ads day'] = pd.Categorical(experiment_data['most ads day'], categories=days_of_week, ordered=True)\n",
        "\n",
        "# Menampilkan total iklan yang dilihat berdasarkan hari terbanyak\n",
        "print(\"\\nTotal Ads Viewed by Most Ads Day:\")\n",
        "grouped_data = experiment_data.groupby('most ads day')['total ads'].sum()\n",
        "print(grouped_data)\n",
        "\n",
        "# Visualisasi total iklan yang dilihat berdasarkan hari terbanyak\n",
        "plt.figure(figsize=(8, 6))\n",
        "grouped_data.plot(kind='bar')\n",
        "plt.title('Total Ads Viewed by Most Ads Day')\n",
        "plt.xlabel('Most Ads Day')\n",
        "plt.ylabel('Total Ads Viewed')\n",
        "plt.xticks(rotation=45)\n",
        "plt.show()\n",
        "\n",
        "# Menampilkan total iklan yang dilihat berdasarkan jam terbanyak\n",
        "print(\"\\nTotal Ads Viewed by Most Ads Hour:\")\n",
        "grouped_data = experiment_data.groupby('most ads hour')['total ads'].sum()\n",
        "print(grouped_data)\n",
        "\n",
        "# Visualisasi total iklan yang dilihat berdasarkan jam terbanyak\n",
        "plt.figure(figsize=(8, 6))\n",
        "grouped_data.plot(kind='bar')\n",
        "plt.title('Total Ads Viewed by Most Ads Hour')\n",
        "plt.xlabel('Most Ads Hour')\n",
        "plt.ylabel('Total Ads Viewed')\n",
        "plt.xticks(rotation=0)\n",
        "plt.show()\n",
        "\n"
      ],
      "metadata": {
        "colab": {
          "base_uri": "https://localhost:8080/",
          "height": 1000
        },
        "id": "3MzXgyQBe370",
        "outputId": "f774bf91-e903-4455-a88c-def0fdd91873"
      },
      "execution_count": 9,
      "outputs": [
        {
          "output_type": "stream",
          "name": "stdout",
          "text": [
            "\n",
            "Total Ads Viewed by Most Ads Day:\n",
            "most ads day\n",
            "Monday       5234\n",
            "Tuesday      4494\n",
            "Wednesday    5261\n",
            "Thursday     6360\n",
            "Friday       5163\n",
            "Saturday     5335\n",
            "Sunday       4750\n",
            "Name: total ads, dtype: int64\n"
          ]
        },
        {
          "output_type": "display_data",
          "data": {
            "text/plain": [
              "<Figure size 800x600 with 1 Axes>"
            ],
            "image/png": "[encoded data removed]"
          },
          "metadata": {}
        },
        {
          "output_type": "stream",
          "name": "stdout",
          "text": [
            "\n",
            "Total Ads Viewed by Most Ads Hour:\n",
            "most ads hour\n",
            "0      204\n",
            "1      384\n",
            "2      245\n",
            "3      113\n",
            "4      111\n",
            "5       30\n",
            "6      168\n",
            "7      367\n",
            "8     1190\n",
            "9     1253\n",
            "10    3229\n",
            "11    2880\n",
            "12    2633\n",
            "13    3374\n",
            "14    3298\n",
            "15    3268\n",
            "16    2651\n",
            "17    2106\n",
            "18    1976\n",
            "19    1835\n",
            "20    1711\n",
            "21    1995\n",
            "22    1014\n",
            "23     562\n",
            "Name: total ads, dtype: int64\n"
          ]
        },
        {
          "output_type": "display_data",
          "data": {
            "text/plain": [
              "<Figure size 800x600 with 1 Axes>"
            ],
            "image/png": "[encoded data removed]"
          },
          "metadata": {}
        }
      ]
    },
    {
      "cell_type": "code",
      "source": [
        "# Menampilkan distribusi kategori dalam kolom 'converted'\n",
        "print(\"\\nDistribution of Converted:\")\n",
        "converted_counts = experiment_data['converted'].value_counts()\n",
        "print(converted_counts)\n",
        "\n",
        "# Visualisasi distribusi kategori dalam kolom 'converted'\n",
        "plt.figure(figsize=(6, 4))\n",
        "converted_counts.plot(kind='bar')\n",
        "plt.title('Distribution of Converted')\n",
        "plt.xlabel('Converted')\n",
        "plt.ylabel('Count')\n",
        "plt.show()\n"
      ],
      "metadata": {
        "colab": {
          "base_uri": "https://localhost:8080/",
          "height": 518
        },
        "id": "wHz6jEidgRAh",
        "outputId": "8fa3bb22-171f-4000-c6a4-80010d3510ce"
      },
      "execution_count": 10,
      "outputs": [
        {
          "output_type": "stream",
          "name": "stdout",
          "text": [
            "\n",
            "Distribution of Converted:\n",
            "False    1503\n",
            "True       37\n",
            "Name: converted, dtype: int64\n"
          ]
        },
        {
          "output_type": "display_data",
          "data": {
            "text/plain": [
              "<Figure size 600x400 with 1 Axes>"
            ],
            "image/png": "[encoded data removed]"
          },
          "metadata": {}
        }
      ]
    },
    {
      "cell_type": "code",
      "source": [
        "# Menghitung jumlah pengguna di kelompok kontrol\n",
        "control_group_count = experiment_data[experiment_data['test group'] == 'psa'].shape[0]\n",
        "\n",
        "# Menampilkan jumlah pengguna di kelompok kontrol\n",
        "print(\"Jumlah pengguna di kelompok kontrol:\", control_group_count)\n",
        "\n",
        "# Menghitung jumlah pengguna di kelompok treatment\n",
        "treatment_group_count = experiment_data[experiment_data['test group'] == 'ad'].shape[0]\n",
        "\n",
        "# Menampilkan jumlah pengguna di kelompok treatment\n",
        "print(\"Jumlah pengguna di kelompok treatment:\", treatment_group_count)\n",
        "\n",
        "# Menghitung total jumlah pengguna\n",
        "total_users = control_group_count + treatment_group_count\n",
        "\n",
        "# Menghitung persentase pengguna di kelompok control\n",
        "control_group_percentage = round((control_group_count / total_users) * 100)\n",
        "\n",
        "# Menghitung persentase pengguna di kelompok treatment\n",
        "treatment_group_percentage = round((treatment_group_count / total_users) * 100)\n",
        "\n",
        "# Menampilkan hasil persentase pengguna di kelompok control dan treatment\n",
        "print(\"Persentase pengguna di kelompok control: {}%\".format(control_group_percentage))\n",
        "print(\"Persentase pengguna di kelompok treatment: {}%\".format(treatment_group_percentage))\n"
      ],
      "metadata": {
        "colab": {
          "base_uri": "https://localhost:8080/"
        },
        "id": "Q75DqfqhvPmv",
        "outputId": "a0f16717-ee18-4d45-bf12-ac8b223877a8"
      },
      "execution_count": 12,
      "outputs": [
        {
          "output_type": "stream",
          "name": "stdout",
          "text": [
            "Jumlah pengguna di kelompok kontrol: 770\n",
            "Jumlah pengguna di kelompok treatment: 770\n",
            "Persentase pengguna di kelompok control: 50%\n",
            "Persentase pengguna di kelompok treatment: 50%\n"
          ]
        }
      ]
    },
    {
      "cell_type": "code",
      "source": [
        "# Menghitung total jumlah pengguna yang terlibat\n",
        "total_show = control_group_count + treatment_group_count\n",
        "\n",
        "# Menghitung nilai observed dan expected\n",
        "observed = [control_group_count, treatment_group_count]\n",
        "expected = [int(total_show / 2), int(total_show / 2)]\n",
        "\n",
        "# Menampilkan hasil perhitungan\n",
        "print(f\"Total pengguna: {total_show}\")\n",
        "print(f\"Observed: {observed}\")\n",
        "print(f\"Expected: {expected}\")"
      ],
      "metadata": {
        "colab": {
          "base_uri": "https://localhost:8080/"
        },
        "id": "VokudCxkc5lX",
        "outputId": "ac63423f-856d-4f41-a7ad-4cb1f3cfadbc"
      },
      "execution_count": 13,
      "outputs": [
        {
          "output_type": "stream",
          "name": "stdout",
          "text": [
            "Total pengguna: 1540\n",
            "Observed: [770, 770]\n",
            "Expected: [770, 770]\n"
          ]
        }
      ]
    },
    {
      "cell_type": "markdown",
      "source": [
        "**SRM Test with Chi-Square Test**\n",
        "\n",
        "SRM merupakan masalah yang muncul ketika proporsi sampel antara kelompok kontrol dan kelompok treatment tidak seimbang. Hal ini dapat mempengaruhi validitas hasil uji statistik, terutama dalam A/B testing di mana kita ingin membandingkan dua kelompok untuk melihat efek dari variabel independen yang diubah."
      ],
      "metadata": {
        "id": "EMd82bgl9zxa"
      }
    },
    {
      "cell_type": "code",
      "source": [
        "# Import library yang diperlukan\n",
        "from scipy.stats import chisquare\n",
        "import scipy\n",
        "\n",
        "# Menghitung chi-square statistics\n",
        "chi = chisquare(observed, f_exp=expected)\n",
        "\n",
        "# Menampilkan hasil perhitungan chi-square statistics\n",
        "print(f\"Chi-square statistics: {chi[0]:.3f}\")\n",
        "print(f\"P-value: {chi[1]:.3f}\")\n",
        "\n",
        "# Menentukan alpha (tingkat signifikansi) dan derajat kebebasan (df)\n",
        "alpha = 0.01\n",
        "df = (2-1)*(2-1)\n",
        "\n",
        "# Menghitung nilai kritis chi-square\n",
        "chi_critical = scipy.stats.chi2.ppf(1 - alpha, df)\n",
        "print(f\"Critical value: {chi_critical:.3f}\")\n",
        "\n",
        "# Membuat keputusan berdasarkan chi-square statistics dan nilai kritis\n",
        "if chi[0] > chi_critical:\n",
        "    print(\"Tolak H0: Kemungkinan terdapat SRM.\")\n",
        "else:\n",
        "    print(\"Tidak menolak H0: Tidak ada SRM.\")\n",
        "\n",
        "# Mengevaluasi hasil uji hipotesis\n",
        "if chi[1] < alpha:\n",
        "    print(\"Tolak H0: Kemungkinan terdapat SRM.\")\n",
        "else:\n",
        "    print(\"Tidak menolak H0: Tidak ada SRM.\")"
      ],
      "metadata": {
        "colab": {
          "base_uri": "https://localhost:8080/"
        },
        "id": "5O7WkkRWd8v2",
        "outputId": "b84b78d2-b134-4fca-8211-c1df5dc2e4d4"
      },
      "execution_count": 18,
      "outputs": [
        {
          "output_type": "stream",
          "name": "stdout",
          "text": [
            "Chi-square statistics: 0.000\n",
            "P-value: 1.000\n",
            "Critical value: 6.635\n",
            "Tidak menolak H0: Tidak ada SRM.\n",
            "Tidak menolak H0: Tidak ada SRM.\n"
          ]
        }
      ]
    },
    {
      "cell_type": "code",
      "source": [
        "# Menghitung jumlah pengguna yang melakukan konversi dari kelompok kontrol\n",
        "n_control_converted = len(experiment_data[(experiment_data['test group'] == 'psa') & (experiment_data['converted'] == True)])\n",
        "\n",
        "# Menghitung jumlah pengguna yang melakukan konversi dari kelompok treatment\n",
        "n_treatment_converted = len(experiment_data[(experiment_data['test group'] == 'ad') & (experiment_data['converted'] == True)])\n",
        "\n",
        "print(\"Jumlah Pengguna yang Konversi:\")\n",
        "print(f\"Kelompok Kontrol: {n_control_converted}\")\n",
        "print(f\"Kelompok Treatment: {n_treatment_converted}\")\n"
      ],
      "metadata": {
        "colab": {
          "base_uri": "https://localhost:8080/"
        },
        "id": "XtZ2lZZWi9pK",
        "outputId": "2a7b435e-446a-47db-9fd5-985d649f60e4"
      },
      "execution_count": 19,
      "outputs": [
        {
          "output_type": "stream",
          "name": "stdout",
          "text": [
            "Jumlah Pengguna yang Konversi:\n",
            "Kelompok Kontrol: 12\n",
            "Kelompok Treatment: 25\n"
          ]
        }
      ]
    },
    {
      "cell_type": "code",
      "source": [
        "# Menghitung convert rate kelompok kontrol\n",
        "control_convert_rate = n_control_converted / control_group_count\n",
        "\n",
        "# Menghitung convert rate kelompok treatment\n",
        "treatment_convert_rate = n_treatment_converted / treatment_group_count\n",
        "\n",
        "print(\"Tingkat Konversi:\")\n",
        "print(f\"Kelompok Kontrol: {control_convert_rate:.4f}\")\n",
        "print(f\"Kelompok Treatment: {treatment_convert_rate:.4f}\")\n",
        "\n"
      ],
      "metadata": {
        "colab": {
          "base_uri": "https://localhost:8080/"
        },
        "id": "QkFFFbHWkB8c",
        "outputId": "56514595-b230-4fd6-960f-bf9620fee714"
      },
      "execution_count": 20,
      "outputs": [
        {
          "output_type": "stream",
          "name": "stdout",
          "text": [
            "Tingkat Konversi:\n",
            "Kelompok Kontrol: 0.0156\n",
            "Kelompok Treatment: 0.0325\n"
          ]
        }
      ]
    },
    {
      "cell_type": "code",
      "source": [
        "import matplotlib.pyplot as plt\n",
        "\n",
        "# Data untuk visualisasi\n",
        "groups = ['Kelompok Kontrol', 'Kelompok Treatment']\n",
        "conversion_rates = [control_convert_rate, treatment_convert_rate]\n",
        "\n",
        "# Warna untuk setiap batang\n",
        "colors = ['blue', 'orange']\n",
        "\n",
        "# Membuat plot batang\n",
        "plt.bar(groups, conversion_rates, color=colors)\n",
        "\n",
        "# Menambahkan nilai convert rate di atas batang\n",
        "for i in range(len(groups)):\n",
        "    plt.text(i, conversion_rates[i], f'{conversion_rates[i]:.4f}%', ha='center', va='bottom')\n",
        "\n",
        "# Menambahkan label pada sumbu x dan y\n",
        "plt.xlabel('Kelompok')\n",
        "plt.ylabel('Conversion Rate (%)')\n",
        "\n",
        "# Menambahkan judul plot\n",
        "plt.title('Perbandingan Conversion Rate antara Kelompok Kontrol dan Kelompok Treatment')\n",
        "\n",
        "# Menampilkan plot\n",
        "plt.show()\n",
        "\n",
        "\n"
      ],
      "metadata": {
        "colab": {
          "base_uri": "https://localhost:8080/",
          "height": 472
        },
        "id": "YlBvaF_gka-8",
        "outputId": "08ef4b93-ebe2-477c-e022-fc7f4f080112"
      },
      "execution_count": 21,
      "outputs": [
        {
          "output_type": "display_data",
          "data": {
            "text/plain": [
              "<Figure size 640x480 with 1 Axes>"
            ],
            "image/png": "[encoded data removed]"
          },
          "metadata": {}
        }
      ]
    },
    {
      "cell_type": "markdown",
      "source": [
        "**Hypothesis Testing and Analyze The Result**\n",
        "\n",
        "Dalam uji hipotesis ini, kita ingin menguji apakah kelompok treatment (ad) memiliki tingkat konversi yang lebih tinggi daripada kelompok control (psa). Misalnya, kita menetapkan p1 sebagai tingkat konversi treatment dan p2 sebagai tingkat konversi control.\n",
        "\n",
        "Dengan demikian, kita dapat merumuskan hipotesis sebagai berikut:\n",
        "* Hipotesis Nol (H0): Nilai konversi dalam kelompok treatment (ad) lebih rendah dari atau sama dengan nilai konversi dalam kelompok control (psa). Secara matematis, H0 : p1 <= p2.\n",
        "* Hipotesis Alternatif (H1): Nilai konversi dalam kelompok treatment (ad) lebih tinggi dari nilai konversi dalam kelompok control (psa). Secara matematis, H1 : p1 > p2.\n",
        "\n",
        "Selanjutnya, kita akan menetapkan tingkat signifikansi (alpha) pada nilai 0.05, yang merupakan ambang batas yang digunakan untuk mengambil keputusan statistik.\n",
        "\n",
        "Dalam kasus ini, kita akan menggunakan statistik uji z-test for proportion untuk menghitung perbedaan proporsi antara dua grup. Dengan menggunakan metode ini, kita dapat mengevaluasi secara statistik apakah terdapat perbedaan yang signifikan antara tingkat konversi kelompok treatment dan control."
      ],
      "metadata": {
        "id": "-IwIOmZm99jy"
      }
    },
    {
      "cell_type": "code",
      "source": [
        "from statsmodels.stats.proportion import proportions_ztest\n",
        "from scipy import stats\n",
        "\n",
        "# Menghitung jumlah konversi dan total pengguna di kelompok treatment (ad)\n",
        "n_treatment = treatment_group_count\n",
        "converted_treatment = n_treatment_converted\n",
        "\n",
        "# Menghitung jumlah konversi dan total pengguna di kelompok control (psa)\n",
        "n_control = control_group_count\n",
        "converted_control = n_control_converted\n",
        "\n",
        "# Menentukan significance level (alpha)\n",
        "alpha = 0.05\n",
        "\n",
        "# Melakukan uji hipotesis menggunakan z-test for proportion\n",
        "z_score, p_value = proportions_ztest([converted_treatment, converted_control], [n_treatment, n_control], alternative='larger')\n",
        "\n",
        "# Menampilkan hasil uji hipotesis\n",
        "print(f\"Z-score: {z_score:.4f}\")\n",
        "print(f\"P-value: {p_value:.4f}\")\n",
        "\n",
        "# Mengevaluasi hasil uji hipotesis\n",
        "if p_value < alpha:\n",
        "    print(\"Menolak H0: Nilai konversi kelompok treatment lebih tinggi dari kelompok control.\")\n",
        "else:\n",
        "    print(\"Menerima H0: Tidak ada perbedaan yang signifikan antara treatment dan control.\")\n",
        "\n",
        "# Menghitung z critical value\n",
        "z_critical = stats.norm.ppf(1 - alpha)\n",
        "\n",
        "# Mencetak nilai z critical value\n",
        "print(f\"Z Critical Value: {z_critical:.4f}\")\n",
        "\n",
        "# Mengevaluasi keputusan berdasarkan z-score dan z critical value\n",
        "if z_score > z_critical:\n",
        "    print(\"Menolak H0: Nilai konversi kelompok treatment lebih tinggi dari kelompok control.\")\n",
        "else:\n",
        "    print(\"Menerima H0: Tidak ada perbedaan yang signifikan antara treatment dan control.\")\n",
        "\n"
      ],
      "metadata": {
        "colab": {
          "base_uri": "https://localhost:8080/"
        },
        "id": "goGwR4m-BDVF",
        "outputId": "591c2318-ed0e-43ba-8f88-941700d1a8f3"
      },
      "execution_count": 22,
      "outputs": [
        {
          "output_type": "stream",
          "name": "stdout",
          "text": [
            "Z-score: 2.1633\n",
            "P-value: 0.0153\n",
            "Menolak H0: Nilai konversi kelompok treatment lebih tinggi dari kelompok control.\n",
            "Z Critical Value: 1.6449\n",
            "Menolak H0: Nilai konversi kelompok treatment lebih tinggi dari kelompok control.\n"
          ]
        }
      ]
    },
    {
      "cell_type": "markdown",
      "source": [
        "Selanjutnya, kita akan melakukan visualisasi hasil uji hipotesis pada grafik distribusi z-value. Grafik ini akan memperlihatkan perbandingan antara daerah z-value saat alpha = 0.05. Hasil visualisasi akan terlihat pada gambar berikut."
      ],
      "metadata": {
        "id": "bN44QAA3-Raf"
      }
    },
    {
      "cell_type": "code",
      "source": [
        "import numpy as np\n",
        "import matplotlib.pyplot as plt\n",
        "from scipy import stats\n",
        "\n",
        "# Menentukan significance level (alpha)\n",
        "alpha = 0.05\n",
        "\n",
        "# Menghitung z critical value\n",
        "z_critical = stats.norm.ppf(1 - alpha)\n",
        "\n",
        "# Membuat distribusi standar normal (kurva z)\n",
        "x = np.linspace(-3, 3, 1000)\n",
        "y = stats.norm.pdf(x)\n",
        "\n",
        "print(f\"Z-score: {z_score:.4f}\")\n",
        "print(f\"P-value: {p_value:.4f}\")\n",
        "print(f\"Z Critical Value: {z_critical:.4f}\")\n",
        "\n",
        "# Membuat plot\n",
        "plt.figure(figsize=(10, 6))\n",
        "plt.plot(x, y, label='Distribusi Standar Normal')\n",
        "\n",
        "# Menyoroti daerah alpha (critical region)\n",
        "plt.fill_between(x, 0, y, where=(x >= z_critical), color='red', alpha=0.3, label='Daerah Alpha')\n",
        "\n",
        "# Menyoroti daerah p-value\n",
        "if p_value < alpha:\n",
        "    plt.fill_between(x, 0, y, where=(x >= z_score), color='green', alpha=0.3, label='Daerah P-value')\n",
        "\n",
        "# Menandai nilai z-stat dan z-crit\n",
        "plt.axvline(x=z_score, color='blue', linestyle='--', label='Z-stat')\n",
        "plt.axvline(x=z_critical, color='orange', linestyle='--', label='Z-crit')\n",
        "\n",
        "# Menambahkan legend\n",
        "plt.legend()\n",
        "\n",
        "# Menampilkan plot\n",
        "plt.xlabel('Nilai Z')\n",
        "plt.ylabel('Density')\n",
        "plt.title('Grafik Distribusi Standar Normal (Z)')\n",
        "plt.grid(True)\n",
        "plt.show()\n"
      ],
      "metadata": {
        "colab": {
          "base_uri": "https://localhost:8080/",
          "height": 616
        },
        "id": "POdcZ4sw7MHK",
        "outputId": "5f8db2bd-0281-4df7-886e-6e7784e93c98"
      },
      "execution_count": 23,
      "outputs": [
        {
          "output_type": "stream",
          "name": "stdout",
          "text": [
            "Z-score: 2.1633\n",
            "P-value: 0.0153\n",
            "Z Critical Value: 1.6449\n"
          ]
        },
        {
          "output_type": "display_data",
          "data": {
            "text/plain": [
              "<Figure size 1000x600 with 1 Axes>"
            ],
            "image/png": "[encoded data removed]"
          },
          "metadata": {}
        }
      ]
    },
    {
      "cell_type": "markdown",
      "source": [
        "**Confidence Interval of Difference between Treatment and Control**\n",
        "\n",
        "Selanjutnya kita menghitung dan menampilkan interval kepercayaan perbedaan proporsi antara kelompok treatment dan kelompok control. Interval kepercayaan ini memberikan perkiraan rentang nilai perbedaan proporsi yang mungkin ada antara kedua kelompok dengan tingkat kepercayaan tertentu."
      ],
      "metadata": {
        "id": "Elf9E-bh-Xlu"
      }
    },
    {
      "cell_type": "code",
      "source": [
        "from statsmodels.stats.proportion import proportions_ztest, confint_proportions_2indep\n",
        "\n",
        "# Menghitung confidence interval (interval kepercayaan) perbedaan proporsi antara dua kelompok\n",
        "conf_interval = confint_proportions_2indep(n_treatment_converted, treatment_group_count,\n",
        "                                           n_control_converted, control_group_count)\n",
        "\n",
        "# Mendapatkan lower bound dan upper bound dari confidence interval\n",
        "lower_bound = conf_interval[0]\n",
        "upper_bound = conf_interval[1]\n",
        "\n",
        "# Menampilkan hasil\n",
        "print(f\"Confidence Interval: [{lower_bound}, {upper_bound}]\")"
      ],
      "metadata": {
        "colab": {
          "base_uri": "https://localhost:8080/"
        },
        "id": "fSudgSHRMh0r",
        "outputId": "0f3e271f-61b5-40b6-b4b4-bc559e5625f8"
      },
      "execution_count": 24,
      "outputs": [
        {
          "output_type": "stream",
          "name": "stdout",
          "text": [
            "Confidence Interval: [0.0014230345786209048, 0.033310497741771944]\n"
          ]
        }
      ]
    },
    {
      "cell_type": "markdown",
      "source": [
        "**Conclusion from The Previous Analysis**\n",
        "\n",
        "Kesimpulan yang didapatkan dari hasil analisis di atas adalah sebagai berikut:\n",
        "* Berdasarkan uji hipotesis, terdapat bukti yang cukup untuk menolak hipotesis nol (H0) yang menyatakan bahwa nilai konversi dalam kelompok treatment (ad) lebih rendah dari atau sama dengan nilai konversi dalam kelompok control (psa). Dengan kata lain, kelompok treatment (ad) memiliki tingkat konversi yang lebih tinggi daripada kelompok control (psa).\n",
        "* Dalam konteks ini, hasil Confidence Interval menunjukkan bahwa terdapat perbedaan yang signifikan antara kelompok treatment (ad) dan kelompok control (psa) dalam hal tingkat konversi. Rentang Confidence Interval yang tidak mencakup nilai 0 menunjukkan bahwa kelompok treatment memiliki tingkat konversi yang lebih tinggi secara signifikan daripada kelompok control.\n",
        "\n",
        "**Recomendation for The Business**\n",
        "\n",
        "Berdasarkan hasil analisis di atas, rekomendasi bisnis untuk perusahaan adalah sebagai berikut:\n",
        "* Berdasarkan hasil uji hipotesis, terdapat bukti statistik (statistically significant) yang menunjukkan bahwa kelompok treatment (ad) memiliki tingkat konversi yang lebih tinggi daripada kelompok control (psa).\n",
        "* Meskipun bukti statistik menunjukkan adanya perbedaan yang signifikan, disarankan untuk untuk memantau metrik-metrik yang relevan, seperti tingkat konversi dan ROI (Return on Investment), sehingga perusahaan dapat memperoleh wawasan yang lebih dalam mengenai efektivitas strategi pemasaran yang diimplementasikan.\n",
        "* Melalui perubahan yang dilakukan pada kelompok treatment, terbukti terdapat peningkatan yang signifikan dalam jumlah pengguna yang melakukan konversi. Hal ini menunjukkan bahwa strategi pemasaran yang melibatkan kelompok treatment lebih efektif dalam menghasilkan hasil yang diinginkan. Berdasarkan pertimbangan di atas, perubahan tersebut dianggap secara praktis signifikan (practically sigificant).\n",
        "\n",
        "**Recomendation for The Next Exeperiment**\n",
        "\n",
        "Saran untuk eksperimen selanjutnya:\n",
        "* Melakukan eksperimen yang lebih lanjut untuk mengidentifikasi faktor-faktor yang berkontribusi pada peningkatan konversi di kelompok treatment.\n",
        "* Melakukan pengujian lebih lanjut dengan sample yang lebih besar untuk memperoleh hasil yang lebih valid dan dapat diandalkan.\n",
        "* Memperhatikan faktor-faktor lain seperti segmentasi pengguna, targeting iklan, atau jenis kampanye yang dapat mempengaruhi tingkat konversi, sehingga dapat mengoptimalkan strategi pemasaran perusahaan."
      ],
      "metadata": {
        "id": "-NghmxDU-fSv"
      }
    }
  ]
}